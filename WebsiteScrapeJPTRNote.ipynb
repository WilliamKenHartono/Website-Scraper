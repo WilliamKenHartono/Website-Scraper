{
 "cells": [
  {
   "cell_type": "code",
   "execution_count": 1,
   "metadata": {},
   "outputs": [],
   "source": [
    "from bs4 import BeautifulSoup\n",
    "import requests\n",
    "import re\n",
    "import pandas as pd"
   ]
  },
  {
   "cell_type": "code",
   "execution_count": 29,
   "metadata": {},
   "outputs": [],
   "source": [
    "# Downloading Kompas data\n",
    "headers = {'Accept-Language': 'en-US,en;q=0.8'}\n",
    "url = 'http://www.kompas.com'\n",
    "response = requests.get(url,headers=headers)\n",
    "soup = BeautifulSoup(response.text, \"html.parser\")"
   ]
  },
  {
   "cell_type": "code",
   "execution_count": 34,
   "metadata": {},
   "outputs": [],
   "source": [
    "# Downloading The Jakarta Post data\n",
    "headers = {'Accept-Language': 'en-US,en;q=0.8'}\n",
    "url = 'https://www.thejakartapost.com/'\n",
    "response = requests.get(url,headers=headers)\n",
    "soup = BeautifulSoup(response.text, \"html.parser\")"
   ]
  },
  {
   "cell_type": "code",
   "execution_count": null,
   "metadata": {},
   "outputs": [],
   "source": [
    "# Downloading Wikipedia data of Jokowi\n",
    "headers = {'Accept-Language': 'en-US,en;q=0.8'}\n",
    "url = 'https://en.wikipedia.org/wiki/Joko_Widodo'\n",
    "response = requests.get(url,headers=headers)\n",
    "soup = BeautifulSoup(response.text, \"html.parser\")"
   ]
  },
  {
   "cell_type": "code",
   "execution_count": 30,
   "metadata": {},
   "outputs": [
    {
     "name": "stdout",
     "output_type": "stream",
     "text": [
      "<h3 class=\"article__title article__title--medium\">\n",
      "<a class=\"article__link\" href=\"https://www.kgnow.com/watch/1701127/sindikat-perampok-bobol-toko-kopi-di-pulogadung-jaktim-korban-rugi-rp-31-juta?source=KOMPASCOM&amp;position=wp_terkini__player_1\" target=\"_blank\">Sindikat Perampok Bobol Toko Kopi di Pulogadung Jaktim, Korban Rugi Rp 31 Juta</a>\n",
      "</h3>\n",
      " \n",
      "how many titles are available? 3\n"
     ]
    }
   ],
   "source": [
    "newstitle = soup.select('h3.article__title')\n",
    "print(newstitle[0])\n",
    "print(\" \")\n",
    "print(\"how many titles are available?\",len(soup.select('h3.article__title')))"
   ]
  },
  {
   "cell_type": "code",
   "execution_count": 35,
   "metadata": {},
   "outputs": [
    {
     "name": "stdout",
     "output_type": "stream",
     "text": [
      "<h1 class=\"tjp-title tjp-title--headline\">ADB approves $500 million loan for Indonesia's energy transition</h1>\n",
      " \n",
      "how many titles are available? 62\n"
     ]
    }
   ],
   "source": [
    "# Jakarta Post Scrape\n",
    "newstitle = soup.select('h1.tjp-title')\n",
    "print(newstitle[0])\n",
    "print(\" \")\n",
    "print(\"how many titles are available?\",len(soup.select('h1.tjp-title')))"
   ]
  },
  {
   "cell_type": "code",
   "execution_count": 31,
   "metadata": {},
   "outputs": [
    {
     "name": "stdout",
     "output_type": "stream",
     "text": [
      "[<a class=\"article__link\" href=\"https://www.kgnow.com/watch/1701127/sindikat-perampok-bobol-toko-kopi-di-pulogadung-jaktim-korban-rugi-rp-31-juta?source=KOMPASCOM&amp;position=wp_terkini__player_1\" target=\"_blank\">Sindikat Perampok Bobol Toko Kopi di Pulogadung Jaktim, Korban Rugi Rp 31 Juta</a>, <a class=\"article__link\" href=\"https://www.kgnow.com/watch/1701015/kemenag-merasa-layanan-haji-2024-lebih-baik-dari-2023?source=KOMPASCOM&amp;position=wp_terkini__player_2\">Kemenag Merasa Layanan Haji 2024 Lebih Baik dari 2023</a>, <a class=\"article__link\" href=\"https://www.kgnow.com/watch/1701000/kronologi-residivis-rudapaksa-dan-kasus-nia-penjual-gorengan-di-padang-pariaman?source=KOMPASCOM&amp;position=wp_terkini__player_2\">Kronologi Residivis Rudapaksa dan Kasus Nia Penjual Gorengan di Padang Pariaman</a>]\n"
     ]
    }
   ],
   "source": [
    "# Kompass\n",
    "text = soup.select('h3 a')\n",
    "print(text)"
   ]
  },
  {
   "cell_type": "code",
   "execution_count": 7,
   "metadata": {},
   "outputs": [
    {
     "name": "stdout",
     "output_type": "stream",
     "text": [
      "https://www.kgnow.com/watch/1701127/sindikat-perampok-bobol-toko-kopi-di-pulogadung-jaktim-korban-rugi-rp-31-juta?source=KOMPASCOM&position=wp_terkini__player_1\n"
     ]
    }
   ],
   "source": [
    "# Kompass Links\n",
    "links=[]\n",
    "for a in soup.select('h3 a'):\n",
    "  links.append(a.attrs.get('href'))\n",
    "\n",
    "print(links[0])"
   ]
  },
  {
   "cell_type": "code",
   "execution_count": 8,
   "metadata": {},
   "outputs": [
    {
     "name": "stdout",
     "output_type": "stream",
     "text": [
      "['Sindikat Perampok Bobol Toko Kopi di Pulogadung Jaktim, Korban Rugi Rp 31 Juta', 'Kemenag Merasa Layanan Haji 2024 Lebih Baik dari 2023', 'Kronologi Residivis Rudapaksa dan Kasus Nia Penjual Gorengan di Padang Pariaman']\n",
      "['https://www.kgnow.com/watch/1701127/sindikat-perampok-bobol-toko-kopi-di-pulogadung-jaktim-korban-rugi-rp-31-juta?source=KOMPASCOM&position=wp_terkini__player_1', 'https://www.kgnow.com/watch/1701015/kemenag-merasa-layanan-haji-2024-lebih-baik-dari-2023?source=KOMPASCOM&position=wp_terkini__player_2', 'https://www.kgnow.com/watch/1701000/kronologi-residivis-rudapaksa-dan-kasus-nia-penjual-gorengan-di-padang-pariaman?source=KOMPASCOM&position=wp_terkini__player_2']\n"
     ]
    }
   ],
   "source": [
    "# Kompass\n",
    "article_title=[]\n",
    "links=[]\n",
    "\n",
    "for t in soup.select('h3.article__title a'):\n",
    "  article_title.append(t.get_text())\n",
    "  links.append(t.attrs.get('href'))\n",
    "\n",
    "print(article_title)\n",
    "print(links)"
   ]
  },
  {
   "cell_type": "code",
   "execution_count": 57,
   "metadata": {},
   "outputs": [
    {
     "name": "stdout",
     "output_type": "stream",
     "text": [
      "[\"ADB approves $500 million loan for Indonesia's energy transition\", 'Fishing for compliments', 'Reports of abuse at Brandoville Studios shed light on ‘cruel’, ‘sad’ creative industry', 'International airshow returns to Indonesia after 28 years', 'Recommended Reads', 'Visitors flock to Nusantara as new city opens to public', 'Analysis: Big-tent politics could pose huge challenge for Prabowo', 'Permanent state of dystopia: Homicide revisits 20-year-old magnum opus ', 'Ex-governor Ahok backs Pramono-Rano ticket for Jakarta race', \"China to 'gradually resume' seafood imports from Japan after Fukushima ban\", 'Jasa Marga sells stakes in trans Java concession to Salim Group', 'Two die, hundreds injured in 5-magnitude West Java quake', 'Russia accuses West of blatant pressure on China over Taiwan', 'When politics is a schoolyard, bullies reign supreme', 'Navigating the policy landscape: Digital transformation outlook for Indonesia & the region', 'New study reinforces theory Covid emerged at Chinese market', 'Indonesia lowers palm oil levy to boost exports', 'Land reform: Toward sustainable land management', 'Nusantara opens to public', 'Visitors flock to Nusantara as new city opens to public', 'Prabowo’s big palm oil agenda gets global support', 'Tokyo stocks surge as Asian traders cheer big US rate cut', 'RI palm oil exports to fall in 2024 on rising demand, lower output', 'House passes 2025 state budget', 'Jokowi to be remembered as leader who undermined democracy', 'Reports of abuse at Brandoville Studios shed light on ‘cruel’, ‘sad’ creative industry', 'KPU to prioritize younger, healthier poll workers for regional elections', 'Ex-governor Ahok backs Pramono-Rano ticket for Jakarta race', 'Uncontested elections still loom in 35 regions', \"Celebrity candidates potentially harmful to the people's interests\", 'When politics is a schoolyard, bullies reign supreme', 'Navigating the policy landscape: Digital transformation outlook for Indonesia & the region', \"Indonesia's middle class: An economic pillar under strain\", 'Nusantara: Jokowi’s political legacy and its future outlook', 'Ex-governor Ahok backs Pramono-Rano ticket for Jakarta race', 'Two die, hundreds injured in 5-magnitude West Java quake', 'Batam residents stage protest over water distribution woes', 'Uncontested elections still loom in 35 regions', \"New law on president's advisors draws flak\", 'Jasa Marga sells stakes in trans Java concession to Salim Group', 'Indonesia lowers palm oil levy to boost exports', 'World Bank expects RI rice output to shrink by 2030', \"ADB approves $500 million loan for Indonesia's energy transition\", 'AI development cannot be left to market whim, UN experts warn', 'RI to have 90 MW of additional geothermal power by year-end', 'Business leaders demand quick resolution of Kadin leadership spat', \"\\n                                        China to 'gradually resume' seafood imports from Japan after Fukushima ban\\n                                    \", 'Russia accuses West of blatant pressure on China over Taiwan', \"US believes Gaza ceasefire deal unlikely in Biden's term, WSJ reports\", 'Components for pagers used in Lebanon blasts are not from Taiwan, minister says', 'Delta suspends US-Israel direct flights until end of 2024', 'US military companies sanctioned for arms sales to Taiwan', 'New study reinforces theory Covid emerged at Chinese market', 'Japan’s sake breweries enter digital era with production aid', 'PICF 2024 celebrates wellness, friendship through song', 'The Coach Coffee Shop and Restaurant: A taste of New York in Jakarta', 'Shy, smelly penguin wins New Zealand bird of the year', \"Live: Ride on Beijing-Xiong'an high-speed railway\", 'Human remains found near Nashville explosion site in US', 'Number of Tibetan antelopes exceeds 200,000 in Tibet', 'Big-tent politics could pose huge challenge for Prabowo', 'Airport firms merged to create one the world’s biggest operators']\n"
     ]
    }
   ],
   "source": [
    "# Jakarta Post\n",
    "article_title=[]\n",
    "\n",
    "for t in soup.select('h1.tjp-title'):\n",
    "  article_title.append(t.get_text())\n",
    "\n",
    "print(article_title)"
   ]
  }
 ],
 "metadata": {
  "kernelspec": {
   "display_name": "Python 3",
   "language": "python",
   "name": "python3"
  },
  "language_info": {
   "codemirror_mode": {
    "name": "ipython",
    "version": 3
   },
   "file_extension": ".py",
   "mimetype": "text/x-python",
   "name": "python",
   "nbconvert_exporter": "python",
   "pygments_lexer": "ipython3",
   "version": "3.12.6"
  }
 },
 "nbformat": 4,
 "nbformat_minor": 2
}
